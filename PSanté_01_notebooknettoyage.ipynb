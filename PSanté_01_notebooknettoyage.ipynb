{
 "cells": [
  {
   "cell_type": "code",
   "execution_count": 1,
   "id": "354a3a49",
   "metadata": {
    "scrolled": true
   },
   "outputs": [
    {
     "data": {
      "application/javascript": [
       "IPython.OutputArea.prototype._should_scroll = function(lines) {\n",
       "    return false;\n",
       "}\n"
      ],
      "text/plain": [
       "<IPython.core.display.Javascript object>"
      ]
     },
     "metadata": {},
     "output_type": "display_data"
    }
   ],
   "source": [
    "%%javascript\n",
    "IPython.OutputArea.prototype._should_scroll = function(lines) {\n",
    "    return false;\n",
    "}"
   ]
  },
  {
   "cell_type": "code",
   "execution_count": 2,
   "id": "b5c009d3",
   "metadata": {
    "scrolled": true
   },
   "outputs": [],
   "source": [
    "#Importation des librairies\n",
    "import warnings\n",
    "warnings.filterwarnings(\"ignore\")\n",
    "\n",
    "import os\n",
    "import re\n",
    "import glob\n",
    "import pandas as pd\n",
    "import missingno as msno\n",
    "import numpy as np\n",
    "import seaborn as sns\n",
    "import matplotlib.pyplot as plt\n",
    "import missingno as msno"
   ]
  },
  {
   "cell_type": "code",
   "execution_count": 3,
   "id": "e11ba1e2",
   "metadata": {
    "scrolled": true
   },
   "outputs": [],
   "source": [
    "#On modifie les options pour rendre l'affichage des float plus lisible\n",
    "pd.set_option('float_format', '{:f}'.format)"
   ]
  },
  {
   "cell_type": "code",
   "execution_count": null,
   "id": "e59233ad",
   "metadata": {
    "scrolled": true
   },
   "outputs": [],
   "source": [
    "#On définit les colonnes du dataset qui nous serons utiles \n",
    "fields = ['code', 'product_name','generic_name','brands','categories','origins','labels','cities','purchase_places','stores','countries','ingredients_text','allergens','additives_n','nutriscore_score','nutriscore_grade','nova_group','pnns_groups_1','pnns_groups_2','ecoscore_score_fr','ecoscore_grade_fr','main_category','image_url','energy-kj_100g',\n",
    "'energy-kcal_100g','salt_100g','sodium_100g','fat_100g','saturated-fat_100g','sugars_100g','fiber_100g','proteins_100g','carbohydrates_100g','alcohol_100g','fruits-vegetables-nuts_100g']\n",
    "\n",
    "df = pd.read_csv(\"en.openfoodfacts.org.products.csv\", sep='\\t', usecols=fields)"
   ]
  },
  {
   "cell_type": "markdown",
   "id": "1c411322",
   "metadata": {},
   "source": [
    "Les colonnes ont été choisies en fonction de nos besoins pour l'application et suite à diverses recherches et tests statistiques sur le dataset"
   ]
  },
  {
   "cell_type": "markdown",
   "id": "8e14ea74",
   "metadata": {},
   "source": [
    "Dans un premier temps nous allons vérifier le nombre de produits dans le dataset puis commencer à éliminer toutes les entrées ne correspondant pas à nos besoins pour l'application. Ici nous retirerons alors les données dont le nom est absent ainsi que les données de produits non français par soucis de lisibilité et de disponibilité en magasin."
   ]
  },
  {
   "cell_type": "code",
   "execution_count": null,
   "id": "85d4e959",
   "metadata": {
    "scrolled": true
   },
   "outputs": [],
   "source": [
    "print(\"Données de base : \")\n",
    "print(df['code'].describe())"
   ]
  },
  {
   "cell_type": "code",
   "execution_count": null,
   "id": "ca9e8df0",
   "metadata": {
    "scrolled": true
   },
   "outputs": [],
   "source": [
    "df = df[df['product_name'].str.strip().astype(bool)]\n",
    "print(\"Après filtre non vide : \")\n",
    "print(df['code'].describe())"
   ]
  },
  {
   "cell_type": "code",
   "execution_count": null,
   "id": "59c06f16",
   "metadata": {
    "scrolled": true
   },
   "outputs": [],
   "source": [
    "df = df[df['countries'] == 'France']\n",
    "print(\"Après filtre France : \")\n",
    "print(df['code'].describe())"
   ]
  },
  {
   "cell_type": "code",
   "execution_count": null,
   "id": "86eae8fd",
   "metadata": {
    "scrolled": true
   },
   "outputs": [],
   "source": [
    "df['categories'].replace('', np.nan, inplace=True)\n",
    "df.dropna(subset=['categories'], inplace=True)\n",
    "print(df['code'].describe())"
   ]
  },
  {
   "cell_type": "markdown",
   "id": "a17acd22",
   "metadata": {},
   "source": [
    "Nous supprimons toutes les catégories vides car il nous est impossible de proposer un produit similaire au produit entré sans connaitre sa catégorie"
   ]
  },
  {
   "cell_type": "markdown",
   "id": "cb583c67",
   "metadata": {},
   "source": [
    "Nous allons maintenant utiliser la librairie Missingno afin de voir la quantité de données vides dans notre jeu de données"
   ]
  },
  {
   "cell_type": "code",
   "execution_count": null,
   "id": "181f96b0",
   "metadata": {},
   "outputs": [],
   "source": [
    "msno.matrix(df)"
   ]
  },
  {
   "cell_type": "code",
   "execution_count": null,
   "id": "ba3d459d",
   "metadata": {
    "scrolled": false
   },
   "outputs": [],
   "source": [
    "for var in [\"salt_100g\",\"sodium_100g\",\"fat_100g\",\"saturated-fat_100g\",\"sugars_100g\",\"carbohydrates_100g\",\"fiber_100g\",\"proteins_100g\"]:\n",
    "    sns.boxplot(x=var, data=df)\n",
    "    plt.title(var)\n",
    "    plt.show()"
   ]
  },
  {
   "cell_type": "markdown",
   "id": "5ec47682",
   "metadata": {},
   "source": [
    "On remarque assez vite ici qu'il y a des valeurs dépassant le seuil de 100grammes. Il s'agit probablement de valeurs entrées en miligrammes au lieu de grammes mais nous allons les supprimer car cela demanderait une vérification manuelle pour chaque produit.\n",
    "\n",
    "Nous allons donc procéder à un nettoyage de toutes les valeurs en dehors des bornes 0 à 100, sauf pour le sodium qui sera entre les bornes 0 à 40 car il ne peut pas excéder cette valeur, nous verrons pourquoi par la suite."
   ]
  },
  {
   "cell_type": "code",
   "execution_count": null,
   "id": "889af104",
   "metadata": {
    "scrolled": true
   },
   "outputs": [],
   "source": [
    "df = df[df['salt_100g']>=0]\n",
    "df = df[df['salt_100g']<=100.0]\n",
    "\n",
    "df = df[df['sodium_100g']>=0]\n",
    "df = df[df['sodium_100g']<=40]\n",
    "\n",
    "df = df[df['fat_100g']>=0]\n",
    "df = df[df['fat_100g']<=100.0]\n",
    "\n",
    "df = df[df['saturated-fat_100g']>=0]\n",
    "df = df[df['saturated-fat_100g']<=100.0]\n",
    "\n",
    "df = df[df['sugars_100g']>=0]\n",
    "df = df[df['sugars_100g']<=100.0]\n",
    "\n",
    "df = df[df['fiber_100g']>=0]\n",
    "df = df[df['fiber_100g']<=100.0]\n",
    "\n",
    "df = df[df['carbohydrates_100g']>=0]\n",
    "df = df[df['carbohydrates_100g']<=100.0]\n",
    "\n",
    "df = df[df['proteins_100g']>=0]\n",
    "df = df[df['proteins_100g']<=100.0]"
   ]
  },
  {
   "cell_type": "markdown",
   "id": "7235d148",
   "metadata": {},
   "source": [
    "Nous estimerons également que toutes les valeurs nulles pour la colonne alcohol_100g sont des produits ne contenant pas d'alcool, nous les mettrons alors d'office à 0 grammes pour la suite de nos calculs"
   ]
  },
  {
   "cell_type": "code",
   "execution_count": null,
   "id": "6e08d2da",
   "metadata": {},
   "outputs": [],
   "source": [
    "df['alcohol_100g'] = df['alcohol_100g'].fillna(0)"
   ]
  },
  {
   "cell_type": "code",
   "execution_count": null,
   "id": "02067bef",
   "metadata": {
    "scrolled": false
   },
   "outputs": [],
   "source": [
    "for var in [\"salt_100g\",\"sodium_100g\",\"fat_100g\",\"saturated-fat_100g\",\"sugars_100g\",\"carbohydrates_100g\",\"fiber_100g\",\"proteins_100g\"]:\n",
    "    sns.boxplot(x=var, data=df)\n",
    "    plt.title(var)\n",
    "    plt.show()"
   ]
  },
  {
   "cell_type": "markdown",
   "id": "92e86f8e",
   "metadata": {},
   "source": [
    "Nous avons maintenant des boxplot correspondant bien mieux à ce que l'on pouvait s'attendre. On remarque également que le boxplot de sel et celui de sodium ont l'air similaires à leur échelle. Il est donc intéressant de voir s'il y a des corrélations entre les différentes variables que nous avons.\n",
    "\n",
    "Pour cela nous allons réaliser une heatmap relevant les corrélations entre chacune de ces variables sur une échelle de 1 à 10:"
   ]
  },
  {
   "cell_type": "code",
   "execution_count": null,
   "id": "7a311d54",
   "metadata": {},
   "outputs": [],
   "source": [
    "corr = df.corr()\n",
    "mask = np.triu(np.ones_like(corr, dtype=bool))\n",
    "f, ax = plt.subplots(figsize=(11, 9))\n",
    "cmap = sns.diverging_palette(230, 20, as_cmap=True)\n",
    "sns.heatmap(corr, mask=mask, cmap=cmap, vmax=1, center=0, square=True, linewidths=.5, cbar_kws={\"shrink\": .5})"
   ]
  },
  {
   "cell_type": "markdown",
   "id": "96285e6b",
   "metadata": {},
   "source": [
    "Nous pouvons distinguer que le sel et le sodium sont très corrélés ainsi que la graisse et la graisse saturée, nous allons donc tester ces valeurs avec un scatterplot pour déterminer s'il y a une relation entre ces deux variables"
   ]
  },
  {
   "cell_type": "code",
   "execution_count": null,
   "id": "730ed0dd",
   "metadata": {},
   "outputs": [],
   "source": [
    "dfSample = df.sample(50000) # Nous prenons un échantillon de 50 000 entités pour accélérer le processus\n",
    "xdataSample, ydataSample = dfSample[\"salt_100g\"], dfSample[\"sodium_100g\"]\n",
    "\n",
    "sns.scatterplot(data=dfSample, x=\"salt_100g\", y=\"sodium_100g\") \n",
    "plt.show()"
   ]
  },
  {
   "cell_type": "markdown",
   "id": "88f80b73",
   "metadata": {},
   "source": [
    "Nous pouvons effectivement voir une belle relation entre ces deux variables grâce à cette diagonale sur le graphique."
   ]
  },
  {
   "cell_type": "markdown",
   "id": "7dfa5156",
   "metadata": {},
   "source": [
    "Après quelques recherches nous trouvons rapidement qu'il existe bel et bien une relation d'un coefficient de 2,54 entre ces deux variables (1gramme de sodium équivaut à 2,54 grammes de sel), ce qui nous permet de savoir qu'il n'y aura jamais plus de 40grammes de sodium dans une portion de 100grammes d'aliment"
   ]
  },
  {
   "cell_type": "code",
   "execution_count": null,
   "id": "6054ea96",
   "metadata": {},
   "outputs": [],
   "source": [
    "dfSample = df.sample(50000) # Nous prenons un échantillon de 50 000 entités pour accélérer le processus\n",
    "xdataSample, ydataSample = dfSample[\"fat_100g\"], dfSample[\"saturated-fat_100g\"]\n",
    "\n",
    "sns.scatterplot(data=dfSample, x=\"fat_100g\", y=\"saturated-fat_100g\") \n",
    "plt.show()"
   ]
  },
  {
   "cell_type": "markdown",
   "id": "0ff33a74",
   "metadata": {},
   "source": [
    "Pour les graisses et les graisses saturées nous pouvons également relever une corrélation mais il n'y a pas de coefficient visible entre ces deux variables. On peut néamoins remarquer qu'il parait impossible que les graisses saturées dépasse le taux de graisses, mis à part quelques cas qui sont potentiellement des erreurs."
   ]
  },
  {
   "cell_type": "markdown",
   "id": "c910180f",
   "metadata": {},
   "source": [
    "Maintenant que nous connaissons la relation entre le sel et le sodium nous allons pouvoir procéder à une vérification pour chaque produit afin d'être sur que les données soient qualitatives"
   ]
  },
  {
   "cell_type": "code",
   "execution_count": null,
   "id": "dbf5bafd",
   "metadata": {},
   "outputs": [],
   "source": [
    "print(\"Avant vérification :\",df[\"code\"].count())\n",
    "df = df.loc[abs(df['salt_100g']-df['sodium_100g']*2.54) < df['salt_100g']*0.05]\n",
    "print(\"Après vérification :\",df[\"code\"].count())\n",
    "\n"
   ]
  },
  {
   "cell_type": "markdown",
   "id": "ae8bd192",
   "metadata": {},
   "source": [
    "En ayant mis une tolérance de 5% de différence entre les valeurs données et les valeurs calculées nous avons quand même exclus une bonne partie des données qui sont potentiellement erronées"
   ]
  },
  {
   "cell_type": "markdown",
   "id": "abb52d28",
   "metadata": {},
   "source": [
    "En faisant nos recherches sur la relation entre le sel et le sodium nous avons découvert que la graisse comprends les graisses saturées et que les glucides comprennent le sucre et les fibres.\n",
    "Nous pouvons donc vérifier que ces valeurs ne dépassent pas le taux de graisse et le taux de glucides liés."
   ]
  },
  {
   "cell_type": "code",
   "execution_count": null,
   "id": "49ebfd54",
   "metadata": {},
   "outputs": [],
   "source": [
    "print(\"Avant vérification :\",df[\"code\"].count())\n",
    "df = df.loc[df['fat_100g'] >= df['saturated-fat_100g']]\n",
    "print(\"Après vérification :\",df[\"code\"].count())\n"
   ]
  },
  {
   "cell_type": "code",
   "execution_count": null,
   "id": "6616f376",
   "metadata": {},
   "outputs": [],
   "source": [
    "print(\"Avant vérification :\",df[\"code\"].count())\n",
    "df = df.loc[df['carbohydrates_100g'] >= df['sugars_100g']+df[\"fiber_100g\"]]\n",
    "print(\"Après vérification :\",df[\"code\"].count())"
   ]
  },
  {
   "cell_type": "markdown",
   "id": "8414373e",
   "metadata": {},
   "source": [
    "Nous pouvons donc déduire avec ces dernières informations que toutes nos variables sont regroupées dans les 4 plus importantes, à savoir : graisses, glucides, protéines, sel.\n",
    "Il est donc important de vérifier que la somme de ces 4 variables ne dépasse pas 100grammes."
   ]
  },
  {
   "cell_type": "code",
   "execution_count": null,
   "id": "5701f126",
   "metadata": {},
   "outputs": [],
   "source": [
    "print(\"Avant vérification :\",df[\"code\"].count())\n",
    "df = df.loc[df['fat_100g'] + df['carbohydrates_100g']+df[\"salt_100g\"]+df[\"proteins_100g\"]<=100]\n",
    "print(\"Après vérification :\",df[\"code\"].count())"
   ]
  },
  {
   "cell_type": "markdown",
   "id": "22a715de",
   "metadata": {},
   "source": [
    "Nous allons maintenant réutiliser Missingno afin de voir si nos données sont toutes remplies ou non"
   ]
  },
  {
   "cell_type": "code",
   "execution_count": null,
   "id": "3696b686",
   "metadata": {},
   "outputs": [],
   "source": [
    "msno.matrix(df)"
   ]
  },
  {
   "cell_type": "markdown",
   "id": "b3870a0c",
   "metadata": {},
   "source": [
    "On peut remarquer ici que les colonnes comprenant les valeurs nutritives de l'aliment sont complètement remplies, ce qui va nous permettre de recalculer les valeurs manquantes de la valeur énérgétique en kcal et kj ainsi que le nutriscore.\n",
    "\n",
    "En effet, la valeur énergétique en kcal d'un produit est égale à : glucides(gr) \\* 4 + protéines(gr) \\* 4 + graisses(gr) \\* 9 + Alcool(gr) \\* 7\n",
    "\n",
    "On sait également que la valeur en kj d'un produit est égale à : kcal * 4.184\n",
    "Maintenant que l'on sait que notre valeur en kcal est correcte, on peut remplacer toutes les valeurs en kj sans distinction"
   ]
  },
  {
   "cell_type": "code",
   "execution_count": null,
   "id": "3829be65",
   "metadata": {},
   "outputs": [],
   "source": [
    "df['energy-kcal_100g']=df['fat_100g']*9+df['carbohydrates_100g']*4+df['proteins_100g']*4+df['alcohol_100g']*7\n",
    "df['energy-kj_100g']=df['energy-kcal_100g']*4.184"
   ]
  },
  {
   "cell_type": "code",
   "execution_count": null,
   "id": "becf85bb",
   "metadata": {
    "scrolled": true
   },
   "outputs": [],
   "source": [
    "msno.matrix(df)"
   ]
  },
  {
   "cell_type": "code",
   "execution_count": null,
   "id": "39014f1d",
   "metadata": {},
   "outputs": [],
   "source": [
    "sns.countplot(x=\"nutriscore_score\", data=df)\n",
    "plt.title(\"nutriscore_score\")\n",
    "plt.xticks(rotation=90)\n",
    "plt.show()\n",
    "\n",
    "\n",
    "sns.countplot(x=\"nutriscore_grade\", data=df, order =[\"a\",\"b\",\"c\",\"d\",\"e\"])\n",
    "plt.title(\"nutriscore_grade\")\n",
    "plt.show()"
   ]
  },
  {
   "cell_type": "code",
   "execution_count": null,
   "id": "b4d60f1a",
   "metadata": {},
   "outputs": [],
   "source": [
    "#Calcul du nutriscore\n",
    "\n",
    "for index, row in df.iterrows():\n",
    "    point_n = 0\n",
    "    sugar = row[\"sugars_100g\"]\n",
    "    energy = row[\"energy-kj_100g\"]\n",
    "    if(\"Boissons\" in row[\"categories\"]):\n",
    "        point_n += 10 if sugar > 45 else (9 if sugar > 40 else (8 if sugar > 36 else(7 if sugar > 31 else(6 if sugar > 27 else(5 if sugar > 22.5 else(4 if sugar > 18 else(3 if sugar > 13.5 else(2 if sugar > 9 else(1 if sugar > 4.5 else 0)))))))))\n",
    "        point_n += 10 if energy > 270 else (9 if energy > 240 else (8 if energy > 210 else(7 if energy > 180 else(6 if energy > 150 else(5 if energy > 120 else(4 if energy > 90 else(3 if energy > 60 else(2 if energy > 30 else(1 if energy > 0 else 0)))))))))\n",
    "    else:\n",
    "        point_n += 10 if sugar > 13.5 else (9 if sugar > 12 else (8 if sugar > 10.5 else(7 if sugar > 9 else(6 if sugar > 7.5 else(5 if sugar > 6 else(4 if sugar > 4.5 else(3 if sugar > 3 else(2 if sugar > 1.5 else(1 if sugar > 0 else 0)))))))))\n",
    "        point_n += 10 if energy > 3350 else (9 if energy > 3015 else (8 if energy > 2680 else(7 if energy > 2345 else(6 if energy > 2010 else(5 if energy > 1675 else(4 if energy > 1340 else(3 if energy > 1005 else(2 if energy > 670 else(1 if energy > 335 else 0)))))))))\n",
    "    saturated_fat = row[\"saturated-fat_100g\"]\n",
    "    if(\"Matières grasses\" in row[\"categories\"]):\n",
    "        point_n += 10 if saturated_fat >= 64 else (9 if saturated_fat >= 58 else (8 if saturated_fat >= 52 else(7 if saturated_fat >= 46 else(6 if saturated_fat >= 40 else(5 if saturated_fat >= 34 else(4 if saturated_fat >= 28 else(3 if saturated_fat >= 22 else(2 if saturated_fat >= 16 else(1 if saturated_fat >= 10 else 0)))))))))\n",
    "    else:\n",
    "        point_n += 10 if saturated_fat > 10 else (9 if saturated_fat > 9 else (8 if saturated_fat > 8 else(7 if saturated_fat > 7 else(6 if saturated_fat > 6 else(5 if saturated_fat > 5 else(4 if saturated_fat > 4 else(3 if saturated_fat > 3 else(2 if saturated_fat > 2 else(1 if saturated_fat > 1 else 0)))))))))\n",
    "    sodium = row[\"sodium_100g\"]\n",
    "    point_n += 10 if sodium > 900 else (9 if sodium > 810 else (8 if sodium > 720 else(7 if sodium > 630 else(6 if sodium > 540 else(5 if sodium > 450 else(4 if sodium > 360 else(3 if sodium > 270 else(2 if sodium > 180 else(1 if sodium > 90 else 0)))))))))\n",
    "    \n",
    "    point_p = 0\n",
    "    point_fruits = 0\n",
    "    point_fibers = 0\n",
    "    point_proteins = 0\n",
    "    fruits = row[\"fruits-vegetables-nuts_100g\"]    \n",
    "    fibers = row[\"fiber_100g\"]\n",
    "    proteins = row[\"proteins_100g\"]\n",
    "    if(\"Boissons\" in row[\"categories\"]):\n",
    "        point_fruits += 10 if fruits >80 else (4 if fruits >60 else (2 if fruits >40 else 0))\n",
    "    else:\n",
    "        point_fruits += 5 if fruits > 80 else (2 if fruits > 60 else (1 if fruits > 40 else 0))\n",
    "    point_fibers += 5 if fibers > 3.5 else (4 if fibers > 2.8 else (3 if fibers > 2.1 else (2 if fibers > 1.4 else (1 if fibers > 0.7 else 0))))\n",
    "    point_proteins += 5 if proteins > 8 else (4 if proteins > 6.4 else (3 if proteins > 4.8 else (2 if proteins > 3.2 else (1 if proteins > 1.6 else 0))))\n",
    "    \n",
    "    point_p = point_fruits + point_fibers + point_proteins\n",
    "    \n",
    "    #Choix de la méthode de calcul du nutriscore:\n",
    "    if(\"Matières grasses\" in row[\"categories\"] or point_n < 11):\n",
    "        score = point_n - point_p\n",
    "    elif(point_fruits <5):\n",
    "        score = point_n - (point_fibers + point_fruits)\n",
    "    else :\n",
    "        score = point_n - point_p\n",
    "    \n",
    "    #Réattribution du score \n",
    "    row[\"nutriscore_score\"] = score\n",
    "\n",
    "    #Réattribution du rang\n",
    "    if(score <0 and \"Boissons\" not in [\"categories\"]):\n",
    "        row[\"nutriscore_grade\"] = \"a\"\n",
    "    elif(0 <= score <= 2 and \"Boissons\" not in [\"categories\"]):\n",
    "        row[\"nutriscore_grade\"] = \"b\"\n",
    "    elif(3 <= score <= 10 and \"Boissons\" not in [\"categories\"] or (2 <= score <= 5 and \"Boissons\" in [\"categories\"])):\n",
    "        row[\"nutriscore_grade\"] = \"c\"\n",
    "    elif(11 <= score <= 18 and \"Boissons\" not in [\"categories\"] or (6 <= score <= 9 and \"Boissons\" in [\"categories\"])):\n",
    "        row[\"nutriscore_grade\"] = \"d\"\n",
    "    elif(19 <= score and \"Boissons\" not in [\"categories\"] or (10 <= score and \"Boissons\" in [\"categories\"])):\n",
    "        row[\"nutriscore_grade\"] = \"e\"\n",
    "           "
   ]
  },
  {
   "cell_type": "markdown",
   "id": "71c7c9d7",
   "metadata": {},
   "source": [
    "Le nutriscore est recalculé entièrement pour tous les produits afin de vérifier avec nos données nettoyées si les scores correspondent toujours. Ensuite on attribue le rang de nutriscore en fonction du score obtenu avec nos variables.\n",
    "\n",
    "On a choisi de ne pas modifier le rang pour les boissons en dessous du score de 2 car il nous était impossible de déterminer si la boisson était de l'eau ou non, le rang reste donc le même qu'avant le calcul."
   ]
  },
  {
   "cell_type": "code",
   "execution_count": null,
   "id": "713f1e14",
   "metadata": {},
   "outputs": [],
   "source": [
    "sns.countplot(x=\"nutriscore_score\", data=df)\n",
    "plt.title(\"nutriscore_score\")\n",
    "plt.xticks(rotation=90)\n",
    "plt.show()\n",
    "\n",
    "\n",
    "sns.countplot(x=\"nutriscore_grade\", data=df, order =[\"a\",\"b\",\"c\",\"d\",\"e\"])\n",
    "plt.title(\"nutriscore_grade\")\n",
    "plt.show()"
   ]
  },
  {
   "cell_type": "markdown",
   "id": "078629a9",
   "metadata": {},
   "source": [
    "On peut voir ici que les deux graphiques correspondent complètement aux deux autres graphiques réalisés avec les données avant calcul. On peut donc déduire que notre formule est correcte."
   ]
  },
  {
   "cell_type": "code",
   "execution_count": null,
   "id": "12e03841",
   "metadata": {},
   "outputs": [],
   "source": [
    "print(df[\"categories\"].describe())"
   ]
  }
 ],
 "metadata": {
  "kernelspec": {
   "display_name": "Python 3 (ipykernel)",
   "language": "python",
   "name": "python3"
  },
  "language_info": {
   "codemirror_mode": {
    "name": "ipython",
    "version": 3
   },
   "file_extension": ".py",
   "mimetype": "text/x-python",
   "name": "python",
   "nbconvert_exporter": "python",
   "pygments_lexer": "ipython3",
   "version": "3.7.4"
  }
 },
 "nbformat": 4,
 "nbformat_minor": 5
}
